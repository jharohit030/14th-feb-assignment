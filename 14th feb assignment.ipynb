{
 "cells": [
  {
   "cell_type": "code",
   "execution_count": null,
   "id": "1c33bd24-6517-432d-b256-85c8b5527c24",
   "metadata": {},
   "outputs": [],
   "source": [
    "#Question 1:\n",
    "\n",
    "Multithreading is a threading technique in Python programming to run multiple threads concurrently by rapidly switching between threads with a CPU help (called context switching). Besides, it allows sharing of its data space with the main threads inside a process that share information and communication with other threads easier than individual processes. Multithreading aims to perform multiple tasks simultaneously, which increases performance, speed and improves the rendering of the application.\n",
    "\n",
    "Multithreading allows the programmer to divide application tasks into sub-tasks and simultaneously run them in a program. It allows threads to communicate and share resources such as files, data, and memory to the same processor. Furthermore, it increases the user's responsiveness to continue running a program even if a part of the application is the length or blocked.\n",
    "\n",
    "There are two main modules of multithreading used to handle threads in Python.\n",
    "1.The thread module\n",
    "2.The threading module\n"
   ]
  },
  {
   "cell_type": "code",
   "execution_count": null,
   "id": "bd0ba6b7-3b07-43c8-9037-dd8b29d6490b",
   "metadata": {},
   "outputs": [],
   "source": [
    "#Question 2:\n",
    "\n",
    "Python threading allows you to have different parts of your program run concurrently and can simplify your design.\n",
    "1.activeCount():  Returns the number of thread objects that are active.\n",
    "2.currentThread():  Returns the number of thread objects in the caller's thread control.\n",
    "3.enumerate(): Returns a list of all thread objects that are currently active."
   ]
  },
  {
   "cell_type": "code",
   "execution_count": null,
   "id": "44650cab-ba05-4741-813c-14c2c9140b51",
   "metadata": {},
   "outputs": [],
   "source": [
    "#Question 3:\n",
    "\n",
    "1. run() − The run() method is the entry point for a thread.\n",
    "2. start() − The start() method starts a thread by calling the run method.\n",
    "3.join() - The join() waits for threads to terminate.\n",
    "4.isAlive() - The isAlive() method checks whether a thread is still executing."
   ]
  },
  {
   "cell_type": "code",
   "execution_count": 3,
   "id": "083d4ca0-5f92-40e5-82b2-84e1445f59db",
   "metadata": {},
   "outputs": [],
   "source": [
    "#Question 4:\n",
    "\n",
    "import threading\n",
    "num = [1,2,3,4,5,6]\n",
    "def square(num):\n",
    "    print(num*num)\n",
    "    \n",
    "def cube(num):\n",
    "    print(num*num*num)\n",
    "    \n",
    "if __name__ == '__main__':\n",
    "    thread1 = [threading.Thread(target = square, args = (i,)) for i in num]\n",
    "    thread2 = [threading.Thread(target = cube, args = (i,)) for i in num]\n",
    "    "
   ]
  },
  {
   "cell_type": "code",
   "execution_count": 4,
   "id": "502b1b55-bfaa-4f87-b66a-79833f939be8",
   "metadata": {},
   "outputs": [
    {
     "name": "stdout",
     "output_type": "stream",
     "text": [
      "1\n",
      "4\n",
      "9\n",
      "16\n",
      "25\n",
      "36\n"
     ]
    }
   ],
   "source": [
    "for t in thread1:\n",
    "    t.start()"
   ]
  },
  {
   "cell_type": "code",
   "execution_count": 5,
   "id": "8ebd7511-aa47-4ac6-af03-a6221562bb05",
   "metadata": {},
   "outputs": [
    {
     "name": "stdout",
     "output_type": "stream",
     "text": [
      "1\n",
      "8\n",
      "27\n",
      "64\n",
      "125\n",
      "216\n"
     ]
    }
   ],
   "source": [
    "for t in thread2:\n",
    "    t.start()"
   ]
  },
  {
   "cell_type": "code",
   "execution_count": null,
   "id": "578d34fa-c744-40ac-9c60-54ffa5aab612",
   "metadata": {},
   "outputs": [],
   "source": [
    "#Question 5:\n",
    "\n",
    "Advantage of Multithreading:\n",
    "    1.Enhanced performance by decreased development time\n",
    "    2.Simplified and streamlined program coding\n",
    "    3.Simultaneous and parallelized occurrence of tasks\n",
    "    4.Better use of cache storage by utilization of resources\n",
    "    5.Decreased cost of maintenance\n",
    "    6.Better use of CPU resource\n",
    "    \n",
    "Disadvantage of Multithreading:\n",
    "    \n",
    "    1. Complex debugging and testing processes\n",
    "    2. Overhead switching of context\n",
    "    3. Increased potential for deadlock occurrence\n",
    "    4. Increased difficulty level in writing a program\n",
    "\n",
    "    "
   ]
  },
  {
   "cell_type": "code",
   "execution_count": null,
   "id": "3c6e3734-87f6-4b7d-8314-5977bad0aa59",
   "metadata": {},
   "outputs": [],
   "source": []
  }
 ],
 "metadata": {
  "kernelspec": {
   "display_name": "Python 3 (ipykernel)",
   "language": "python",
   "name": "python3"
  },
  "language_info": {
   "codemirror_mode": {
    "name": "ipython",
    "version": 3
   },
   "file_extension": ".py",
   "mimetype": "text/x-python",
   "name": "python",
   "nbconvert_exporter": "python",
   "pygments_lexer": "ipython3",
   "version": "3.10.8"
  }
 },
 "nbformat": 4,
 "nbformat_minor": 5
}
